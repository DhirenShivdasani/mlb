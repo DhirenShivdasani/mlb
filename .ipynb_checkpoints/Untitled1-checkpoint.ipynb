{
 "cells": [
  {
   "cell_type": "code",
   "execution_count": 1,
   "id": "2603fa1f-e9fe-4907-85bb-22f45c5f483c",
   "metadata": {},
   "outputs": [],
   "source": [
    "from selenium.webdriver.common.by import By\n",
    "from selenium.webdriver.support.ui import WebDriverWait\n",
    "from selenium.webdriver.support import expected_conditions as EC\n",
    "from selenium.webdriver.chrome.options import Options\n",
    "from selenium.webdriver.chrome.service import Service\n",
    "import undetected_chromedriver as uc\n",
    "import time\n",
    "import pandas as pd\n",
    "from selenium.webdriver.common.keys import Keys\n",
    "from selenium.webdriver.common.desired_capabilities import DesiredCapabilities\n"
   ]
  },
  {
   "cell_type": "code",
   "execution_count": null,
   "id": "990d5012-4139-4d0c-9985-8a266dce6567",
   "metadata": {},
   "outputs": [],
   "source": [
    "\n",
    "# Initialize Chrome options\n",
    "chrome_options = uc.ChromeOptions()\n",
    "chrome_options.add_argument(\"--headless\")  # Enable headless mode\n",
    "chrome_options.add_argument(\"--disable-gpu\")  # Disable GPU for headless mode\n",
    "chrome_options.add_argument(\"--window-size=1920,1080\")  # Set the window size\n",
    "chrome_options.add_experimental_option(\"prefs\", {\"profile.managed_default_content_settings.images\": 2})\n",
    "chrome_options.add_argument(\"--disable-notifications\")\n",
    "chrome_options.add_experimental_option(\"prefs\", {\n",
    "    \"profile.default_content_setting_values.geolocation\": 1,  # 1: Allow, 2: Block\n",
    "})\n",
    "chrome_options.page_load_strategy = 'eager'  # Waits for the DOMContentLoaded event\n",
    "\n",
    "# Initialize the undetected Chrome driver with the options\n",
    "driver = uc.Chrome(options=chrome_options)\n",
    "\n",
    "# Navigate to the URL\n",
    "driver.get(\"https://app.prizepicks.com/\")\n",
    "\n",
    "# Perform any additional actions here\n",
    "# Example: Wait for an element to be present\n",
    "wait = WebDriverWait(driver, timeout = 5)  # Wait for up to 10 seconds\n",
    "try:\n",
    "    element = wait.until(EC.element_to_be_clickable((By.XPATH, '/html/body/div[3]/div[3]/div/div/button')))\n",
    "    element.click()\n",
    "except Exception as e:\n",
    "    print(f\"Error: {e}\")\n",
    "\n",
    "\n",
    "\n"
   ]
  }
 ],
 "metadata": {
  "kernelspec": {
   "display_name": "Python 3 (ipykernel)",
   "language": "python",
   "name": "python3"
  },
  "language_info": {
   "codemirror_mode": {
    "name": "ipython",
    "version": 3
   },
   "file_extension": ".py",
   "mimetype": "text/x-python",
   "name": "python",
   "nbconvert_exporter": "python",
   "pygments_lexer": "ipython3",
   "version": "3.10.9"
  }
 },
 "nbformat": 4,
 "nbformat_minor": 5
}
